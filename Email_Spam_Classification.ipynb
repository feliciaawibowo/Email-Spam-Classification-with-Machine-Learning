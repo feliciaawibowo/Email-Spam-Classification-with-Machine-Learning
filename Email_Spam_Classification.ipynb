{
  "nbformat": 4,
  "nbformat_minor": 0,
  "metadata": {
    "colab": {
      "provenance": []
    },
    "kernelspec": {
      "name": "python3",
      "display_name": "Python 3"
    },
    "language_info": {
      "name": "python"
    }
  },
  "cells": [
    {
      "cell_type": "code",
      "execution_count": null,
      "metadata": {
        "id": "vr68z0KQKh2W"
      },
      "outputs": [],
      "source": [
        "import pandas as pd"
      ]
    },
    {
      "cell_type": "markdown",
      "source": [
        "### import dataset"
      ],
      "metadata": {
        "id": "Yy1yDKuWL1k1"
      }
    },
    {
      "cell_type": "code",
      "source": [
        "df = pd.read_csv('phishing_email.csv')"
      ],
      "metadata": {
        "id": "AQ_crRtPKmbQ"
      },
      "execution_count": null,
      "outputs": []
    },
    {
      "cell_type": "code",
      "source": [
        "df.head()"
      ],
      "metadata": {
        "colab": {
          "base_uri": "https://localhost:8080/",
          "height": 206
        },
        "id": "QSZfhNRJLCCa",
        "outputId": "c31e5e5c-fffa-4aa6-9608-a5d614d03f90"
      },
      "execution_count": null,
      "outputs": [
        {
          "output_type": "execute_result",
          "data": {
            "text/plain": [
              "                                       text_combined  label\n",
              "0  hpl nom may 25 2001 see attached file hplno 52...      0\n",
              "1  nom actual vols 24 th forwarded sabrae zajac h...      0\n",
              "2  enron actuals march 30 april 1 201 estimated a...      0\n",
              "3  hpl nom may 30 2001 see attached file hplno 53...      0\n",
              "4  hpl nom june 1 2001 see attached file hplno 60...      0"
            ],
            "text/html": [
              "\n",
              "  <div id=\"df-0aac8322-c722-4c9f-93aa-592b00020f47\" class=\"colab-df-container\">\n",
              "    <div>\n",
              "<style scoped>\n",
              "    .dataframe tbody tr th:only-of-type {\n",
              "        vertical-align: middle;\n",
              "    }\n",
              "\n",
              "    .dataframe tbody tr th {\n",
              "        vertical-align: top;\n",
              "    }\n",
              "\n",
              "    .dataframe thead th {\n",
              "        text-align: right;\n",
              "    }\n",
              "</style>\n",
              "<table border=\"1\" class=\"dataframe\">\n",
              "  <thead>\n",
              "    <tr style=\"text-align: right;\">\n",
              "      <th></th>\n",
              "      <th>text_combined</th>\n",
              "      <th>label</th>\n",
              "    </tr>\n",
              "  </thead>\n",
              "  <tbody>\n",
              "    <tr>\n",
              "      <th>0</th>\n",
              "      <td>hpl nom may 25 2001 see attached file hplno 52...</td>\n",
              "      <td>0</td>\n",
              "    </tr>\n",
              "    <tr>\n",
              "      <th>1</th>\n",
              "      <td>nom actual vols 24 th forwarded sabrae zajac h...</td>\n",
              "      <td>0</td>\n",
              "    </tr>\n",
              "    <tr>\n",
              "      <th>2</th>\n",
              "      <td>enron actuals march 30 april 1 201 estimated a...</td>\n",
              "      <td>0</td>\n",
              "    </tr>\n",
              "    <tr>\n",
              "      <th>3</th>\n",
              "      <td>hpl nom may 30 2001 see attached file hplno 53...</td>\n",
              "      <td>0</td>\n",
              "    </tr>\n",
              "    <tr>\n",
              "      <th>4</th>\n",
              "      <td>hpl nom june 1 2001 see attached file hplno 60...</td>\n",
              "      <td>0</td>\n",
              "    </tr>\n",
              "  </tbody>\n",
              "</table>\n",
              "</div>\n",
              "    <div class=\"colab-df-buttons\">\n",
              "\n",
              "  <div class=\"colab-df-container\">\n",
              "    <button class=\"colab-df-convert\" onclick=\"convertToInteractive('df-0aac8322-c722-4c9f-93aa-592b00020f47')\"\n",
              "            title=\"Convert this dataframe to an interactive table.\"\n",
              "            style=\"display:none;\">\n",
              "\n",
              "  <svg xmlns=\"http://www.w3.org/2000/svg\" height=\"24px\" viewBox=\"0 -960 960 960\">\n",
              "    <path d=\"M120-120v-720h720v720H120Zm60-500h600v-160H180v160Zm220 220h160v-160H400v160Zm0 220h160v-160H400v160ZM180-400h160v-160H180v160Zm440 0h160v-160H620v160ZM180-180h160v-160H180v160Zm440 0h160v-160H620v160Z\"/>\n",
              "  </svg>\n",
              "    </button>\n",
              "\n",
              "  <style>\n",
              "    .colab-df-container {\n",
              "      display:flex;\n",
              "      gap: 12px;\n",
              "    }\n",
              "\n",
              "    .colab-df-convert {\n",
              "      background-color: #E8F0FE;\n",
              "      border: none;\n",
              "      border-radius: 50%;\n",
              "      cursor: pointer;\n",
              "      display: none;\n",
              "      fill: #1967D2;\n",
              "      height: 32px;\n",
              "      padding: 0 0 0 0;\n",
              "      width: 32px;\n",
              "    }\n",
              "\n",
              "    .colab-df-convert:hover {\n",
              "      background-color: #E2EBFA;\n",
              "      box-shadow: 0px 1px 2px rgba(60, 64, 67, 0.3), 0px 1px 3px 1px rgba(60, 64, 67, 0.15);\n",
              "      fill: #174EA6;\n",
              "    }\n",
              "\n",
              "    .colab-df-buttons div {\n",
              "      margin-bottom: 4px;\n",
              "    }\n",
              "\n",
              "    [theme=dark] .colab-df-convert {\n",
              "      background-color: #3B4455;\n",
              "      fill: #D2E3FC;\n",
              "    }\n",
              "\n",
              "    [theme=dark] .colab-df-convert:hover {\n",
              "      background-color: #434B5C;\n",
              "      box-shadow: 0px 1px 3px 1px rgba(0, 0, 0, 0.15);\n",
              "      filter: drop-shadow(0px 1px 2px rgba(0, 0, 0, 0.3));\n",
              "      fill: #FFFFFF;\n",
              "    }\n",
              "  </style>\n",
              "\n",
              "    <script>\n",
              "      const buttonEl =\n",
              "        document.querySelector('#df-0aac8322-c722-4c9f-93aa-592b00020f47 button.colab-df-convert');\n",
              "      buttonEl.style.display =\n",
              "        google.colab.kernel.accessAllowed ? 'block' : 'none';\n",
              "\n",
              "      async function convertToInteractive(key) {\n",
              "        const element = document.querySelector('#df-0aac8322-c722-4c9f-93aa-592b00020f47');\n",
              "        const dataTable =\n",
              "          await google.colab.kernel.invokeFunction('convertToInteractive',\n",
              "                                                    [key], {});\n",
              "        if (!dataTable) return;\n",
              "\n",
              "        const docLinkHtml = 'Like what you see? Visit the ' +\n",
              "          '<a target=\"_blank\" href=https://colab.research.google.com/notebooks/data_table.ipynb>data table notebook</a>'\n",
              "          + ' to learn more about interactive tables.';\n",
              "        element.innerHTML = '';\n",
              "        dataTable['output_type'] = 'display_data';\n",
              "        await google.colab.output.renderOutput(dataTable, element);\n",
              "        const docLink = document.createElement('div');\n",
              "        docLink.innerHTML = docLinkHtml;\n",
              "        element.appendChild(docLink);\n",
              "      }\n",
              "    </script>\n",
              "  </div>\n",
              "\n",
              "\n",
              "<div id=\"df-e9b94662-0191-4b25-9251-919845d76c7c\">\n",
              "  <button class=\"colab-df-quickchart\" onclick=\"quickchart('df-e9b94662-0191-4b25-9251-919845d76c7c')\"\n",
              "            title=\"Suggest charts\"\n",
              "            style=\"display:none;\">\n",
              "\n",
              "<svg xmlns=\"http://www.w3.org/2000/svg\" height=\"24px\"viewBox=\"0 0 24 24\"\n",
              "     width=\"24px\">\n",
              "    <g>\n",
              "        <path d=\"M19 3H5c-1.1 0-2 .9-2 2v14c0 1.1.9 2 2 2h14c1.1 0 2-.9 2-2V5c0-1.1-.9-2-2-2zM9 17H7v-7h2v7zm4 0h-2V7h2v10zm4 0h-2v-4h2v4z\"/>\n",
              "    </g>\n",
              "</svg>\n",
              "  </button>\n",
              "\n",
              "<style>\n",
              "  .colab-df-quickchart {\n",
              "      --bg-color: #E8F0FE;\n",
              "      --fill-color: #1967D2;\n",
              "      --hover-bg-color: #E2EBFA;\n",
              "      --hover-fill-color: #174EA6;\n",
              "      --disabled-fill-color: #AAA;\n",
              "      --disabled-bg-color: #DDD;\n",
              "  }\n",
              "\n",
              "  [theme=dark] .colab-df-quickchart {\n",
              "      --bg-color: #3B4455;\n",
              "      --fill-color: #D2E3FC;\n",
              "      --hover-bg-color: #434B5C;\n",
              "      --hover-fill-color: #FFFFFF;\n",
              "      --disabled-bg-color: #3B4455;\n",
              "      --disabled-fill-color: #666;\n",
              "  }\n",
              "\n",
              "  .colab-df-quickchart {\n",
              "    background-color: var(--bg-color);\n",
              "    border: none;\n",
              "    border-radius: 50%;\n",
              "    cursor: pointer;\n",
              "    display: none;\n",
              "    fill: var(--fill-color);\n",
              "    height: 32px;\n",
              "    padding: 0;\n",
              "    width: 32px;\n",
              "  }\n",
              "\n",
              "  .colab-df-quickchart:hover {\n",
              "    background-color: var(--hover-bg-color);\n",
              "    box-shadow: 0 1px 2px rgba(60, 64, 67, 0.3), 0 1px 3px 1px rgba(60, 64, 67, 0.15);\n",
              "    fill: var(--button-hover-fill-color);\n",
              "  }\n",
              "\n",
              "  .colab-df-quickchart-complete:disabled,\n",
              "  .colab-df-quickchart-complete:disabled:hover {\n",
              "    background-color: var(--disabled-bg-color);\n",
              "    fill: var(--disabled-fill-color);\n",
              "    box-shadow: none;\n",
              "  }\n",
              "\n",
              "  .colab-df-spinner {\n",
              "    border: 2px solid var(--fill-color);\n",
              "    border-color: transparent;\n",
              "    border-bottom-color: var(--fill-color);\n",
              "    animation:\n",
              "      spin 1s steps(1) infinite;\n",
              "  }\n",
              "\n",
              "  @keyframes spin {\n",
              "    0% {\n",
              "      border-color: transparent;\n",
              "      border-bottom-color: var(--fill-color);\n",
              "      border-left-color: var(--fill-color);\n",
              "    }\n",
              "    20% {\n",
              "      border-color: transparent;\n",
              "      border-left-color: var(--fill-color);\n",
              "      border-top-color: var(--fill-color);\n",
              "    }\n",
              "    30% {\n",
              "      border-color: transparent;\n",
              "      border-left-color: var(--fill-color);\n",
              "      border-top-color: var(--fill-color);\n",
              "      border-right-color: var(--fill-color);\n",
              "    }\n",
              "    40% {\n",
              "      border-color: transparent;\n",
              "      border-right-color: var(--fill-color);\n",
              "      border-top-color: var(--fill-color);\n",
              "    }\n",
              "    60% {\n",
              "      border-color: transparent;\n",
              "      border-right-color: var(--fill-color);\n",
              "    }\n",
              "    80% {\n",
              "      border-color: transparent;\n",
              "      border-right-color: var(--fill-color);\n",
              "      border-bottom-color: var(--fill-color);\n",
              "    }\n",
              "    90% {\n",
              "      border-color: transparent;\n",
              "      border-bottom-color: var(--fill-color);\n",
              "    }\n",
              "  }\n",
              "</style>\n",
              "\n",
              "  <script>\n",
              "    async function quickchart(key) {\n",
              "      const quickchartButtonEl =\n",
              "        document.querySelector('#' + key + ' button');\n",
              "      quickchartButtonEl.disabled = true;  // To prevent multiple clicks.\n",
              "      quickchartButtonEl.classList.add('colab-df-spinner');\n",
              "      try {\n",
              "        const charts = await google.colab.kernel.invokeFunction(\n",
              "            'suggestCharts', [key], {});\n",
              "      } catch (error) {\n",
              "        console.error('Error during call to suggestCharts:', error);\n",
              "      }\n",
              "      quickchartButtonEl.classList.remove('colab-df-spinner');\n",
              "      quickchartButtonEl.classList.add('colab-df-quickchart-complete');\n",
              "    }\n",
              "    (() => {\n",
              "      let quickchartButtonEl =\n",
              "        document.querySelector('#df-e9b94662-0191-4b25-9251-919845d76c7c button');\n",
              "      quickchartButtonEl.style.display =\n",
              "        google.colab.kernel.accessAllowed ? 'block' : 'none';\n",
              "    })();\n",
              "  </script>\n",
              "</div>\n",
              "\n",
              "    </div>\n",
              "  </div>\n"
            ],
            "application/vnd.google.colaboratory.intrinsic+json": {
              "type": "dataframe",
              "variable_name": "df",
              "summary": "{\n  \"name\": \"df\",\n  \"rows\": 82486,\n  \"fields\": [\n    {\n      \"column\": \"text_combined\",\n      \"properties\": {\n        \"dtype\": \"string\",\n        \"num_unique_values\": 82078,\n        \"samples\": [\n          \"garp 2001 convention invitation speak invitation speak garp 2001 2 nd annual risk management convention 13 th 14 th february 2001 marriott world trade center new york dear kaminski telephone conversation today secretary shirley crenshaw behalf global association risk professionals great pleasure inviting speak 2 nd annual risk management convention garp 2001 event rapidly establishing risk management industry important meeting point garp 2000 reflected key concerns risk management experts world wide 400 attendees first year three simultaneous streams address traditional pricing risk management techniques along specialised streams addressing new sectors corporate world insurance industry speaker panel 55 senior executive financial professionals investment banks regulatory bodies asset management firms academics insurers insurers corporate system providers financial risk management event year key areas convention consider include market risk stress testing liquidity jump diffusion evt credit risk regulation modeling stress testing credit portfolio management credit derivatives operational risk regulation data modeling validation evt advanced asset liability management corporate energy risk management insurance capital markets research discussions experts arena name highly recommended speaker event stream corporate energy risk management mind one sessions also topic titles provisional open suggested alterations corporate energy risk management modelling corporate risk risk management shareholder value perspective measuring energy risk tackling price volatility adapting var scenario modelling regulatory requirements forward pricing construction forward curve correlations transparency issues volatility challenge modelling price volatility examining new products designed stabilise volatility energy credit risk management garp profit independent organisation risk management practitioners researchers leading financial institutions world wide garp mission facilitate exchange information developing educational programs promoting standards area financial risk management information please refer web site www garp com sincerely hope able accept invitation look forward hearing due course questions please hesitate contact otherwise call discuss best regards andreas ps also attached copy garps 2000 program attention _ _ _ _ _ _ _ _ _ _ _ _ _ _ _ _ _ _ _ _ _ _ _ _ _ _ _ _ andreas simou garp 2001 conference producer tel 44 0 20 7626 9301 fax 44 0 20 7626 9900 draft programme doc g 2000 b wlowr pdf\",\n          \"fly macromedia xp pro sp 2 adobe photoshop ms office 2 oo 3 acrobat norton raise find companion profession parents drew popular softwwares start 20 vf windows xp pro sp 2 microsoft office 2003 system pro 5 cds adobe photoshop cs 8 0 ogt adobe acrobat 7 0 professional autocad 2005 dmd symantec norton systemworks dvdxcopy platinum 4 0 38 quickbooks 2004 premier edition macromedia studio mx 2004 microsoft office system professional 2003 norton antivirus 2005 adobe pagemaker 7 01 beingpromised order ur softwares different turning steps already development disappoint mentioned slow raise tying least make back find\",\n          \"mr kala kabila kkkabila2003yahoocom kalla kabila johannesburg south africa dear sir know surprise receive lette letter request family dare need asistance kalla kabila democratic republic congo drc son mrs mercy kabila youngest wife late president laurent kabila murdered recently got name address business desk chamber commerce industry johannesburg behalf widowed mother mrs mercy kabila decided solicit assistance president laurent kabila got married mother widow currently residing johannesburg south africa child woman death willed us certain portion wealth including amount fund due love mother fund us24m twenty four million united states dollars deposited box one well rec ognized security company south africa valuables instructed us solicit assistance reliable sincere foreign partner assist us transfer money south africa investment purposes fortunately enough mother late president people aware moreover box deposited name claim alone deposited secret code mother still documents therefore need assistance transferring huge sum ofus24m twenty four million united states dollars inherited late father personal companys account please bear mind entire life future mother depend fund grateful assist us live south africa asylum seekers due circumstances behind fund family crisis invest money south africa fo r effort prepared offer 20 total su whi le 10 set aside expenses incurred transaction please note transaction 100 risk free major thing demand assurance safety money finally gets information arrangement commence soon trust confidence good relationship established shall grateful maintain confidentiality matter please confirm interest via email address dont forget drop phone fax number easeir communication best regards kalla kabila tue 20 apr 2004 140312 0400 need help\"\n        ],\n        \"semantic_type\": \"\",\n        \"description\": \"\"\n      }\n    },\n    {\n      \"column\": \"label\",\n      \"properties\": {\n        \"dtype\": \"number\",\n        \"std\": 0,\n        \"min\": 0,\n        \"max\": 1,\n        \"num_unique_values\": 2,\n        \"samples\": [\n          1,\n          0\n        ],\n        \"semantic_type\": \"\",\n        \"description\": \"\"\n      }\n    }\n  ]\n}"
            }
          },
          "metadata": {},
          "execution_count": 15
        }
      ]
    },
    {
      "cell_type": "code",
      "source": [
        "df.info()"
      ],
      "metadata": {
        "colab": {
          "base_uri": "https://localhost:8080/"
        },
        "id": "p6eIlruONIMY",
        "outputId": "b2830f30-2e91-4980-f831-657369f0f5a9"
      },
      "execution_count": null,
      "outputs": [
        {
          "output_type": "stream",
          "name": "stdout",
          "text": [
            "<class 'pandas.core.frame.DataFrame'>\n",
            "RangeIndex: 82486 entries, 0 to 82485\n",
            "Data columns (total 2 columns):\n",
            " #   Column         Non-Null Count  Dtype \n",
            "---  ------         --------------  ----- \n",
            " 0   text_combined  82486 non-null  object\n",
            " 1   label          82486 non-null  int64 \n",
            "dtypes: int64(1), object(1)\n",
            "memory usage: 1.3+ MB\n"
          ]
        }
      ]
    },
    {
      "cell_type": "code",
      "source": [
        "import seaborn as sns\n",
        "import matplotlib.pyplot as plt"
      ],
      "metadata": {
        "id": "GSEpqFT4M7ZS"
      },
      "execution_count": null,
      "outputs": []
    },
    {
      "cell_type": "code",
      "source": [
        "sns.countplot(x='label', data=df)\n",
        "plt.title('Distribution of Emails by Label')\n",
        "plt.show()"
      ],
      "metadata": {
        "colab": {
          "base_uri": "https://localhost:8080/",
          "height": 472
        },
        "id": "Fn2ezHDnNC6V",
        "outputId": "b740b0eb-80cc-4031-f579-c18974b3e4c0"
      },
      "execution_count": null,
      "outputs": [
        {
          "output_type": "display_data",
          "data": {
            "text/plain": [
              "<Figure size 640x480 with 1 Axes>"
            ],
            "image/png": "[encoded data removed]"
          },
          "metadata": {}
        }
      ]
    },
    {
      "cell_type": "markdown",
      "source": [
        "### data splitting"
      ],
      "metadata": {
        "id": "XW_gtXsiMleL"
      }
    },
    {
      "cell_type": "code",
      "source": [
        "from sklearn.model_selection import train_test_split"
      ],
      "metadata": {
        "id": "uGL64FEgLGLn"
      },
      "execution_count": null,
      "outputs": []
    },
    {
      "cell_type": "code",
      "source": [
        "x_train, x_test, y_train, y_test = train_test_split(df['text_combined'], df['label'], test_size = 0.2, random_state = 42)"
      ],
      "metadata": {
        "id": "x8JTnSp0QCIw"
      },
      "execution_count": null,
      "outputs": []
    },
    {
      "cell_type": "code",
      "source": [
        "print(f\"Jumlah x train: {len(x_train)}\")\n",
        "print(f\"Jumlah x test: {len(x_test)}\")\n",
        "print(f\"Jumlah y train: {len(y_train)}\")\n",
        "print(f\"Jumlah y test: {len(y_test)}\")"
      ],
      "metadata": {
        "colab": {
          "base_uri": "https://localhost:8080/"
        },
        "id": "UYaSmt-WP_4b",
        "outputId": "273d0d05-3865-4abb-f9f7-e1bd5d2f629b"
      },
      "execution_count": null,
      "outputs": [
        {
          "output_type": "stream",
          "name": "stdout",
          "text": [
            "Jumlah x train: 65988\n",
            "Jumlah x test: 16498\n",
            "Jumlah y train: 65988\n",
            "Jumlah y test: 16498\n"
          ]
        }
      ]
    },
    {
      "cell_type": "markdown",
      "source": [
        "### vectorizer"
      ],
      "metadata": {
        "id": "woTjwibdRHGY"
      }
    },
    {
      "cell_type": "code",
      "source": [
        "from sklearn.feature_extraction.text import TfidfVectorizer"
      ],
      "metadata": {
        "id": "YoBQbRnAQj-0"
      },
      "execution_count": null,
      "outputs": []
    },
    {
      "cell_type": "code",
      "source": [
        "tfidf = TfidfVectorizer()\n",
        "x_train_tfidf = tfidf.fit_transform(x_train)\n",
        "x_test_tfidf = tfidf.transform(x_test)"
      ],
      "metadata": {
        "id": "NttYcnNFRW6n"
      },
      "execution_count": null,
      "outputs": []
    },
    {
      "cell_type": "markdown",
      "source": [
        "## machine learning"
      ],
      "metadata": {
        "id": "dDbYjL3KR8rI"
      }
    },
    {
      "cell_type": "code",
      "source": [
        "from sklearn.metrics import accuracy_score, classification_report, confusion_matrix"
      ],
      "metadata": {
        "id": "BfGE_bKAeJoX"
      },
      "execution_count": null,
      "outputs": []
    },
    {
      "cell_type": "markdown",
      "source": [
        "### logistic regression"
      ],
      "metadata": {
        "id": "augyZHPESAPI"
      }
    },
    {
      "cell_type": "code",
      "source": [
        "from sklearn.linear_model import LogisticRegression"
      ],
      "metadata": {
        "id": "8S_XWNaNRmzi"
      },
      "execution_count": null,
      "outputs": []
    },
    {
      "cell_type": "code",
      "source": [
        "lr = LogisticRegression()\n",
        "lr.fit(x_train_tfidf, y_train)\n",
        "\n",
        "y_lr_pred = lr.predict(x_test_tfidf)\n",
        "\n",
        "lr_accuracy = accuracy_score(y_test, y_lr_pred)\n",
        "print(f\"Akurasi Logistic Regression: {lr_accuracy}\")\n",
        "\n",
        "lr_classification_report = classification_report(y_test, y_lr_pred)\n",
        "print(\"Laporan Klasifikasi Logistic Regression:\")\n",
        "print(lr_classification_report)\n",
        "\n",
        "lr_confusion_matrix = confusion_matrix(y_test, y_lr_pred)\n",
        "print(\"Confusion Matrix Logistic Regression:\")\n",
        "print(lr_confusion_matrix)"
      ],
      "metadata": {
        "colab": {
          "base_uri": "https://localhost:8080/"
        },
        "id": "UeutXNl8SOCp",
        "outputId": "4a522036-e7c6-48c1-d2ff-5d0ecf52a9a7"
      },
      "execution_count": null,
      "outputs": [
        {
          "output_type": "stream",
          "name": "stdout",
          "text": [
            "Akurasi Logistic Regression: 0.9845435810401261\n",
            "Laporan Klasifikasi Logistic Regression:\n",
            "              precision    recall  f1-score   support\n",
            "\n",
            "           0       0.99      0.98      0.98      7935\n",
            "           1       0.98      0.99      0.99      8563\n",
            "\n",
            "    accuracy                           0.98     16498\n",
            "   macro avg       0.98      0.98      0.98     16498\n",
            "weighted avg       0.98      0.98      0.98     16498\n",
            "\n",
            "Confusion Matrix Logistic Regression:\n",
            "[[7768  167]\n",
            " [  88 8475]]\n"
          ]
        }
      ]
    },
    {
      "cell_type": "markdown",
      "source": [
        "### random forest"
      ],
      "metadata": {
        "id": "_LDK2bsbeqS8"
      }
    },
    {
      "cell_type": "code",
      "source": [
        "from sklearn.ensemble import RandomForestClassifier"
      ],
      "metadata": {
        "id": "ytVRb0wyeelu"
      },
      "execution_count": null,
      "outputs": []
    },
    {
      "cell_type": "code",
      "source": [
        "rf = RandomForestClassifier()\n",
        "rf.fit(x_train_tfidf, y_train)\n",
        "y_rf_pred = rf.predict(x_test_tfidf)\n",
        "\n",
        "rf_accuracy = accuracy_score(y_test, y_rf_pred)\n",
        "print(f\"Akurasi Random Forest: {rf_accuracy}\")\n",
        "\n",
        "rf_classification_report = classification_report(y_test, y_rf_pred)\n",
        "print(\"Laporan Klasifikasi Random Forest:\")\n",
        "print(rf_classification_report)\n",
        "\n",
        "rf_confusion_matrix = confusion_matrix(y_test, y_rf_pred)\n",
        "print(\"Confusion Matrix Random Forest:\")\n",
        "print(rf_confusion_matrix)"
      ],
      "metadata": {
        "colab": {
          "base_uri": "https://localhost:8080/"
        },
        "id": "eLIo2cA2e3ct",
        "outputId": "2d28a494-3062-4fcb-bd00-a4ce0f72f7f6"
      },
      "execution_count": null,
      "outputs": [
        {
          "output_type": "stream",
          "name": "stdout",
          "text": [
            "Akurasi Random Forest: 0.9830282458479815\n",
            "Laporan Klasifikasi Random Forest:\n",
            "              precision    recall  f1-score   support\n",
            "\n",
            "           0       0.98      0.99      0.98      7935\n",
            "           1       0.99      0.98      0.98      8563\n",
            "\n",
            "    accuracy                           0.98     16498\n",
            "   macro avg       0.98      0.98      0.98     16498\n",
            "weighted avg       0.98      0.98      0.98     16498\n",
            "\n",
            "Confusion Matrix Random Forest:\n",
            "[[7838   97]\n",
            " [ 183 8380]]\n"
          ]
        }
      ]
    },
    {
      "cell_type": "markdown",
      "source": [
        "### xgboost"
      ],
      "metadata": {
        "id": "ZMZVwvVUfT2m"
      }
    },
    {
      "cell_type": "code",
      "source": [
        "import xgboost as xgb"
      ],
      "metadata": {
        "id": "sXOH7TdLe8VZ"
      },
      "execution_count": null,
      "outputs": []
    },
    {
      "cell_type": "code",
      "source": [
        "xgb_model = xgb.XGBClassifier()\n",
        "xgb_model.fit(x_train_tfidf, y_train)\n",
        "y_xgb_pred = xgb_model.predict(x_test_tfidf)\n",
        "\n",
        "xgb_accuracy = accuracy_score(y_test, y_xgb_pred)\n",
        "print(f\"Akurasi XGBoost: {xgb_accuracy}\")\n",
        "\n",
        "xgb_classification_report = classification_report(y_test, y_xgb_pred)\n",
        "print(\"Laporan Klasifikasi XGBoost:\")\n",
        "print(xgb_classification_report)\n",
        "\n",
        "xgb_confusion_matrix = confusion_matrix(y_test, y_xgb_pred)\n",
        "print(\"Confusion Matrix XGBoost:\")\n",
        "print(xgb_confusion_matrix)"
      ],
      "metadata": {
        "colab": {
          "base_uri": "https://localhost:8080/"
        },
        "id": "oKmYkWANfc19",
        "outputId": "920470f6-a8af-45cc-d5c3-19f4e5a8cf85"
      },
      "execution_count": null,
      "outputs": [
        {
          "output_type": "stream",
          "name": "stdout",
          "text": [
            "Akurasi XGBoost: 0.9799369620560068\n",
            "Laporan Klasifikasi XGBoost:\n",
            "              precision    recall  f1-score   support\n",
            "\n",
            "           0       0.99      0.97      0.98      7935\n",
            "           1       0.97      0.99      0.98      8563\n",
            "\n",
            "    accuracy                           0.98     16498\n",
            "   macro avg       0.98      0.98      0.98     16498\n",
            "weighted avg       0.98      0.98      0.98     16498\n",
            "\n",
            "Confusion Matrix XGBoost:\n",
            "[[7688  247]\n",
            " [  84 8479]]\n"
          ]
        }
      ]
    },
    {
      "cell_type": "markdown",
      "source": [
        "### naive bayes"
      ],
      "metadata": {
        "id": "J4-uvnEXjrI9"
      }
    },
    {
      "cell_type": "code",
      "source": [
        "from sklearn.naive_bayes import MultinomialNB"
      ],
      "metadata": {
        "id": "4QiEpA05iKbQ"
      },
      "execution_count": null,
      "outputs": []
    },
    {
      "cell_type": "code",
      "source": [
        "nb = MultinomialNB()\n",
        "nb.fit(x_train_tfidf,y_train)\n",
        "y_nb_pred = nb.predict(x_test_tfidf)\n",
        "\n",
        "nb_accuracy = accuracy_score(y_test, y_nb_pred)\n",
        "print(f\"Akurasi Naive Bayes: {nb_accuracy}\")\n",
        "\n",
        "nb_classification_report = classification_report(y_test, y_nb_pred)\n",
        "print(\"Laporan Klasifikasi Naive Bayes:\")\n",
        "print(nb_classification_report)\n",
        "\n",
        "nb_confusion_matrix = confusion_matrix(y_test, y_nb_pred)\n",
        "print(\"Confusion Matrix Naive Bayes:\")\n",
        "print(nb_confusion_matrix)"
      ],
      "metadata": {
        "colab": {
          "base_uri": "https://localhost:8080/"
        },
        "id": "tMr_DlmBkCRo",
        "outputId": "01a6e013-1def-4d8d-cfcb-65bc2efd6e5d"
      },
      "execution_count": null,
      "outputs": [
        {
          "output_type": "stream",
          "name": "stdout",
          "text": [
            "Akurasi Naive Bayes: 0.9778154927870045\n",
            "Laporan Klasifikasi Naive Bayes:\n",
            "              precision    recall  f1-score   support\n",
            "\n",
            "           0       0.96      0.99      0.98      7935\n",
            "           1       0.99      0.97      0.98      8563\n",
            "\n",
            "    accuracy                           0.98     16498\n",
            "   macro avg       0.98      0.98      0.98     16498\n",
            "weighted avg       0.98      0.98      0.98     16498\n",
            "\n",
            "Confusion Matrix Naive Bayes:\n",
            "[[7856   79]\n",
            " [ 287 8276]]\n"
          ]
        }
      ]
    }
  ]
}